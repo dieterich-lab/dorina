{
 "cells": [
  {
   "cell_type": "code",
   "execution_count": 2,
   "metadata": {},
   "outputs": [],
   "source": [
    "from pathlib import Path\n",
    "import pybedtools\n",
    "import pandas as pd\n",
    "import numpy as np\n",
    "import json"
   ]
  },
  {
   "cell_type": "markdown",
   "metadata": {},
   "source": [
    "This notebook documents the process for extending Dorina regulators database.\n",
    "Dorina depends on the correct naming of both the bedfile and and bed record (the rows in the bed file). Dorina filter most bed files by the name, and if the name of the file and the bed record do not match, there will be problems. Please see dorina.regulator.py line 80 for implementation details. \n",
    "\n",
    "Also, webdorina depends on a specific parsing to process the regulator site. This specification is:  \n",
    "'{experiment}#{reg_name}_{assembly}\\*{reg_name}'  \n",
    "PARCLIP#TAF15_hg19*TAF15"
   ]
  },
  {
   "cell_type": "markdown",
   "metadata": {},
   "source": [
    "To keep the database consistent with the old data \n",
    "- peaks in experimental replicates are merged\n",
    "- the score of the resulting peak is the median peak score\n",
    "\n",
    "This may not be optimal for every experiment, but the database contains various types of experiments."
   ]
  },
  {
   "cell_type": "code",
   "execution_count": 3,
   "metadata": {},
   "outputs": [],
   "source": [
    "def change_name(rec, new_name=\"\"):\n",
    "    rec.name = new_name\n",
    "    return rec\n",
    "\n",
    "def change_name_targetscan(rec):\n",
    "    \"\"\"Changes the names of each entry in the targetScan bedfile\n",
    "    Default name example:\n",
    "    KLHL17:miR-299-3p\n",
    "    \"\"\"\n",
    "    rec.name = rec.name[ rec.name.find(':') + 1 :] + \"|TargetScan\"\n",
    "    return rec\n",
    "\n",
    "def change_name_fehlmannetal2017(rec):\n",
    "    \"\"\"Changes the names of each entry in the targetScan bedfile\n",
    "    Default name example:\n",
    "    KLHL17:miR-299-3p\n",
    "    \"\"\"\n",
    "    rec[2] = rec.name\n",
    "    return rec"
   ]
  },
  {
   "cell_type": "markdown",
   "metadata": {},
   "source": [
    "## Add RBP identified by RNA bind nd seek Lambert et al 2014 on 26 April 2018\n",
    "\n",
    "supll material was obtained from https://www.ncbi.nlm.nih.gov/pmc/articles/PMC4142047/bin/NIHMS598961-supplement-02.xlsx"
   ]
  },
  {
   "cell_type": "code",
   "execution_count": 38,
   "metadata": {},
   "outputs": [],
   "source": [
    "lambert_RBFOX2 = pd.read_excel('/Volumes/prj/dorina2/raw/NIHMS598961-supplement-02.xlsx',\n",
    "                              header=3, sheetname='RBFOX2', skiprows=1)\n",
    "\n",
    "# lambert_CELF1 = pd.read_excel('/Volumes/prj/dorina2/raw/NIHMS598961-supplement-02.xlsx',\n",
    "#                               header=3, sheetname='CELF1')\n",
    "\n",
    "# lambert_MBNL1 = pd.read_excel('/Volumes/prj/dorina2/raw/NIHMS598961-supplement-02.xlsx',\n",
    "#                               header=3, sheetname='MBNL1')\n",
    "\n",
    "lambert_RBFOX2 = lambert_RBFOX2\\\n",
    "    .set_index('kmer', drop=True)\\\n",
    "    .drop('Unnamed: 0', axis=1)"
   ]
  },
  {
   "cell_type": "code",
   "execution_count": 43,
   "metadata": {},
   "outputs": [],
   "source": [
    "lambert_RBFOX2.columns = '0\t1.5\t4.5\t14\t40\t121\t365\t1100\t3300\t9800'.split()"
   ]
  },
  {
   "cell_type": "code",
   "execution_count": 60,
   "metadata": {},
   "outputs": [
    {
     "data": {
      "text/plain": [
       "(4096, 10)"
      ]
     },
     "execution_count": 60,
     "metadata": {},
     "output_type": "execute_result"
    }
   ],
   "source": [
    "lambert_RBFOX2.shape"
   ]
  },
  {
   "cell_type": "code",
   "execution_count": 62,
   "metadata": {},
   "outputs": [],
   "source": [
    "mean2sd = lambert_RBFOX2.mean(axis=1) + lambert_RBFOX2.std(axis=1) * 2"
   ]
  },
  {
   "cell_type": "code",
   "execution_count": 80,
   "metadata": {},
   "outputs": [],
   "source": [
    "sig_motifs = lambert_RBFOX2.gt(mean2sd, axis='rows').any(axis=1)"
   ]
  },
  {
   "cell_type": "code",
   "execution_count": 90,
   "metadata": {},
   "outputs": [],
   "source": [
    "with open('/Volumes/tbrittoborges/bindndseek/bg.txt', 'w') as fou:\n",
    "    fou.write(\"\\n\".join(lambert_RBFOX2.index))\n",
    "\n",
    "with open('/Volumes/tbrittoborges/bindndseek/RBFOX2.txt', 'w') as fou:\n",
    "    fou.write(\"\\n\".join(sig_motifs[sig_motifs].index)) "
   ]
  },
  {
   "cell_type": "code",
   "execution_count": null,
   "metadata": {},
   "outputs": [],
   "source": [
    "%%bash\n",
    "cd /Volumes/tbrittoborges/sites2meme \n",
    "module load meme\n",
    "\n",
    "sites2meme bindndseek/ > bindndseek/RBFOX2.meme\n",
    "fimo bindndseek/RBFOX2.meme /biodb/genomes/homo_sapiens/GRCh38_90/GRCh38_90.fa\n",
    "\n",
    "fasta-grep TGCATG -dna -p < /biodb/genomes/homo_sapiens/GRCh38_90/GRCh38_90.fa\n"
   ]
  },
  {
   "cell_type": "markdown",
   "metadata": {},
   "source": [
    "## Expression from Gtex"
   ]
  },
  {
   "cell_type": "code",
   "execution_count": 5,
   "metadata": {},
   "outputs": [],
   "source": [
    "%%script false \n",
    "# this one was processed in the computer cluster\n",
    "!cd /biodb/gtex/\n",
    "import pandas as pd\n",
    "\n",
    "rnaseq = 'GTEx_Analysis_2016-01-15_v7_RNASeQCv1.1.8_gene_tpm.gct.gz'\n",
    "sample = 'GTEx_v7_Annotations_SampleAttributesDS.txt'\n",
    "samples = pd.read_table(sample)\n",
    "gtex = pd.read_table(rnaseq, skiprows=2, compression='gzip', header=0, )\n",
    "samples_mapping = dict(zip(samples['SAMPID'], samples['SMTS']))\n",
    "gtex.set_index('Name', inplace=True)\n",
    "gtex.drop(columns=['Description'], inplace=True)\n",
    "gtex = gtex.rename(columns=samples_mapping)\n",
    "gtex = gtex.T\n",
    "names = [x.split('.')[0] for x in gtex.columns]\n",
    "#  alternative solution for id mapping\n",
    "\n",
    "import numpy as np\n",
    "from bioservices import BioDBNet\n",
    "bioservice = BioDBNet()\n",
    "input_db = \"Ensembl Gene ID\"\n",
    "output_db = [\"Gene Symbol\"]\n",
    "input_values = ['ENSG00000214688']\n",
    "xref = [bioservice.db2db(input_db, output_db, list(x), 9606) for x in np.array_split(names, 562)]\n",
    "xref = pd.concat(xref)"
   ]
  },
  {
   "cell_type": "code",
   "execution_count": 34,
   "metadata": {},
   "outputs": [],
   "source": [
    "gtex = pd.read_csv('/Volumes/tbrittoborges-1/gtex_posprocessed2.csv',\n",
    "                   index_col=0, header=0)"
   ]
  },
  {
   "cell_type": "code",
   "execution_count": 35,
   "metadata": {},
   "outputs": [],
   "source": [
    "gtex = gtex.groupby(level=0).median()"
   ]
  },
  {
   "cell_type": "code",
   "execution_count": 36,
   "metadata": {},
   "outputs": [],
   "source": [
    "names = [x[:x.index('.')] for x in gtex.columns]"
   ]
  },
  {
   "cell_type": "code",
   "execution_count": 37,
   "metadata": {},
   "outputs": [
    {
     "data": {
      "text/plain": [
       "(13511,)"
      ]
     },
     "execution_count": 37,
     "metadata": {},
     "output_type": "execute_result"
    }
   ],
   "source": [
    "gtex.loc['Heart'][gtex.loc['Heart'] > 1].shape"
   ]
  },
  {
   "cell_type": "code",
   "execution_count": 10,
   "metadata": {},
   "outputs": [],
   "source": [
    "id_map = pd.read_csv('/Volumes/tbrittoborges-1/gtexv7_id_mapping.csv', header=0, index_col=0,sep=';')"
   ]
  },
  {
   "cell_type": "code",
   "execution_count": 38,
   "metadata": {},
   "outputs": [],
   "source": [
    "mapping = id_map.set_index(['ensembl_id'])['hgnc_symbol']"
   ]
  },
  {
   "cell_type": "code",
   "execution_count": 39,
   "metadata": {},
   "outputs": [],
   "source": [
    "mapped_names = mapping[names]"
   ]
  },
  {
   "cell_type": "code",
   "execution_count": 41,
   "metadata": {},
   "outputs": [
    {
     "data": {
      "text/plain": [
       "ensembl_id\n",
       "ENSG00000223972    DDX11L1\n",
       "ENSG00000227232        NaN\n",
       "ENSG00000243485        NaN\n",
       "ENSG00000237613    FAM138A\n",
       "ENSG00000268020        NaN\n",
       "Name: hgnc_symbol, dtype: object"
      ]
     },
     "execution_count": 41,
     "metadata": {},
     "output_type": "execute_result"
    }
   ],
   "source": [
    "mapped_names.head()"
   ]
  },
  {
   "cell_type": "code",
   "execution_count": 44,
   "metadata": {},
   "outputs": [],
   "source": [
    "gtex.columns = names"
   ]
  },
  {
   "cell_type": "code",
   "execution_count": 15,
   "metadata": {},
   "outputs": [],
   "source": [
    "# mapped_names.fillna(value={k:k for k in mapped_names.index}, inplace=True)"
   ]
  },
  {
   "cell_type": "code",
   "execution_count": 45,
   "metadata": {},
   "outputs": [],
   "source": [
    "gtex.rename(columns=mapped_names, inplace=True)"
   ]
  },
  {
   "cell_type": "code",
   "execution_count": 52,
   "metadata": {},
   "outputs": [
    {
     "data": {
      "text/html": [
       "<div>\n",
       "<style>\n",
       "    .dataframe thead tr:only-child th {\n",
       "        text-align: right;\n",
       "    }\n",
       "\n",
       "    .dataframe thead th {\n",
       "        text-align: left;\n",
       "    }\n",
       "\n",
       "    .dataframe tbody tr th {\n",
       "        vertical-align: top;\n",
       "    }\n",
       "</style>\n",
       "<table border=\"1\" class=\"dataframe\">\n",
       "  <thead>\n",
       "    <tr style=\"text-align: right;\">\n",
       "      <th></th>\n",
       "      <th>DDX11L1</th>\n",
       "      <th>FAM138A</th>\n",
       "      <th>OR4F5</th>\n",
       "      <th>LOC100996442</th>\n",
       "      <th>LOC101928626</th>\n",
       "      <th>FAM87B</th>\n",
       "      <th>LINC00115</th>\n",
       "      <th>LINC01128</th>\n",
       "      <th>FAM41C</th>\n",
       "      <th>LOC100130417</th>\n",
       "      <th>...</th>\n",
       "      <th>COX2</th>\n",
       "      <th>ATP8</th>\n",
       "      <th>ATP6</th>\n",
       "      <th>COX3</th>\n",
       "      <th>ND3</th>\n",
       "      <th>ND4L</th>\n",
       "      <th>ND4</th>\n",
       "      <th>ND5</th>\n",
       "      <th>ND6</th>\n",
       "      <th>CYTB</th>\n",
       "    </tr>\n",
       "  </thead>\n",
       "  <tbody>\n",
       "    <tr>\n",
       "      <th>Adipose Tissue</th>\n",
       "      <td>0.05458</td>\n",
       "      <td>0.03653</td>\n",
       "      <td>0.04875</td>\n",
       "      <td>0.146500</td>\n",
       "      <td>0.071690</td>\n",
       "      <td>1.3270</td>\n",
       "      <td>4.6540</td>\n",
       "      <td>7.925</td>\n",
       "      <td>0.06479</td>\n",
       "      <td>0.99640</td>\n",
       "      <td>...</td>\n",
       "      <td>28170.0</td>\n",
       "      <td>22320.0</td>\n",
       "      <td>34100.0</td>\n",
       "      <td>33550.0</td>\n",
       "      <td>18590.0</td>\n",
       "      <td>14040.0</td>\n",
       "      <td>32440.0</td>\n",
       "      <td>4028.0</td>\n",
       "      <td>3744.0</td>\n",
       "      <td>24050.0</td>\n",
       "    </tr>\n",
       "    <tr>\n",
       "      <th>Adrenal Gland</th>\n",
       "      <td>0.07460</td>\n",
       "      <td>0.04050</td>\n",
       "      <td>0.06136</td>\n",
       "      <td>0.087785</td>\n",
       "      <td>0.071095</td>\n",
       "      <td>1.2460</td>\n",
       "      <td>2.5845</td>\n",
       "      <td>4.057</td>\n",
       "      <td>0.05932</td>\n",
       "      <td>3.78950</td>\n",
       "      <td>...</td>\n",
       "      <td>47140.0</td>\n",
       "      <td>28810.0</td>\n",
       "      <td>50570.0</td>\n",
       "      <td>51070.0</td>\n",
       "      <td>21265.0</td>\n",
       "      <td>23285.0</td>\n",
       "      <td>53425.0</td>\n",
       "      <td>7246.0</td>\n",
       "      <td>8498.0</td>\n",
       "      <td>28275.0</td>\n",
       "    </tr>\n",
       "    <tr>\n",
       "      <th>Bladder</th>\n",
       "      <td>0.05878</td>\n",
       "      <td>0.04113</td>\n",
       "      <td>0.05461</td>\n",
       "      <td>0.143000</td>\n",
       "      <td>0.070550</td>\n",
       "      <td>0.9377</td>\n",
       "      <td>7.7790</td>\n",
       "      <td>10.270</td>\n",
       "      <td>0.04074</td>\n",
       "      <td>11.41000</td>\n",
       "      <td>...</td>\n",
       "      <td>29100.0</td>\n",
       "      <td>16230.0</td>\n",
       "      <td>29280.0</td>\n",
       "      <td>26990.0</td>\n",
       "      <td>12620.0</td>\n",
       "      <td>14800.0</td>\n",
       "      <td>34110.0</td>\n",
       "      <td>9434.0</td>\n",
       "      <td>11080.0</td>\n",
       "      <td>23030.0</td>\n",
       "    </tr>\n",
       "    <tr>\n",
       "      <th>Blood</th>\n",
       "      <td>0.08195</td>\n",
       "      <td>0.02570</td>\n",
       "      <td>0.00000</td>\n",
       "      <td>0.121100</td>\n",
       "      <td>0.043400</td>\n",
       "      <td>0.1281</td>\n",
       "      <td>2.0060</td>\n",
       "      <td>1.305</td>\n",
       "      <td>0.03328</td>\n",
       "      <td>0.06641</td>\n",
       "      <td>...</td>\n",
       "      <td>6785.0</td>\n",
       "      <td>3143.0</td>\n",
       "      <td>5815.0</td>\n",
       "      <td>5354.0</td>\n",
       "      <td>2193.0</td>\n",
       "      <td>1635.0</td>\n",
       "      <td>5565.0</td>\n",
       "      <td>969.1</td>\n",
       "      <td>1446.0</td>\n",
       "      <td>3129.0</td>\n",
       "    </tr>\n",
       "    <tr>\n",
       "      <th>Blood Vessel</th>\n",
       "      <td>0.04535</td>\n",
       "      <td>0.03668</td>\n",
       "      <td>0.04108</td>\n",
       "      <td>0.138400</td>\n",
       "      <td>0.079530</td>\n",
       "      <td>1.4160</td>\n",
       "      <td>7.6760</td>\n",
       "      <td>10.120</td>\n",
       "      <td>0.05732</td>\n",
       "      <td>5.80600</td>\n",
       "      <td>...</td>\n",
       "      <td>15510.0</td>\n",
       "      <td>12060.0</td>\n",
       "      <td>19210.0</td>\n",
       "      <td>19010.0</td>\n",
       "      <td>9435.0</td>\n",
       "      <td>6670.0</td>\n",
       "      <td>16210.0</td>\n",
       "      <td>3832.0</td>\n",
       "      <td>5166.0</td>\n",
       "      <td>13160.0</td>\n",
       "    </tr>\n",
       "  </tbody>\n",
       "</table>\n",
       "<p>5 rows × 24407 columns</p>\n",
       "</div>"
      ],
      "text/plain": [
       "                DDX11L1  FAM138A    OR4F5  LOC100996442  LOC101928626  FAM87B  \\\n",
       "Adipose Tissue  0.05458  0.03653  0.04875      0.146500      0.071690  1.3270   \n",
       "Adrenal Gland   0.07460  0.04050  0.06136      0.087785      0.071095  1.2460   \n",
       "Bladder         0.05878  0.04113  0.05461      0.143000      0.070550  0.9377   \n",
       "Blood           0.08195  0.02570  0.00000      0.121100      0.043400  0.1281   \n",
       "Blood Vessel    0.04535  0.03668  0.04108      0.138400      0.079530  1.4160   \n",
       "\n",
       "                LINC00115  LINC01128   FAM41C  LOC100130417   ...        COX2  \\\n",
       "Adipose Tissue     4.6540      7.925  0.06479       0.99640   ...     28170.0   \n",
       "Adrenal Gland      2.5845      4.057  0.05932       3.78950   ...     47140.0   \n",
       "Bladder            7.7790     10.270  0.04074      11.41000   ...     29100.0   \n",
       "Blood              2.0060      1.305  0.03328       0.06641   ...      6785.0   \n",
       "Blood Vessel       7.6760     10.120  0.05732       5.80600   ...     15510.0   \n",
       "\n",
       "                   ATP8     ATP6     COX3      ND3     ND4L      ND4     ND5  \\\n",
       "Adipose Tissue  22320.0  34100.0  33550.0  18590.0  14040.0  32440.0  4028.0   \n",
       "Adrenal Gland   28810.0  50570.0  51070.0  21265.0  23285.0  53425.0  7246.0   \n",
       "Bladder         16230.0  29280.0  26990.0  12620.0  14800.0  34110.0  9434.0   \n",
       "Blood            3143.0   5815.0   5354.0   2193.0   1635.0   5565.0   969.1   \n",
       "Blood Vessel    12060.0  19210.0  19010.0   9435.0   6670.0  16210.0  3832.0   \n",
       "\n",
       "                    ND6     CYTB  \n",
       "Adipose Tissue   3744.0  24050.0  \n",
       "Adrenal Gland    8498.0  28275.0  \n",
       "Bladder         11080.0  23030.0  \n",
       "Blood            1446.0   3129.0  \n",
       "Blood Vessel     5166.0  13160.0  \n",
       "\n",
       "[5 rows x 24407 columns]"
      ]
     },
     "execution_count": 52,
     "metadata": {},
     "output_type": "execute_result"
    }
   ],
   "source": [
    "gtex[gtex.columns.dropna()].head()"
   ]
  },
  {
   "cell_type": "code",
   "execution_count": null,
   "metadata": {},
   "outputs": [],
   "source": []
  },
  {
   "cell_type": "code",
   "execution_count": 29,
   "metadata": {},
   "outputs": [
    {
     "data": {
      "text/plain": [
       "13511"
      ]
     },
     "execution_count": 29,
     "metadata": {},
     "output_type": "execute_result"
    }
   ],
   "source": [
    "\n",
    "\n",
    "len(gtex.loc['Heart'][gtex.loc['Heart']  > 1].index.tolist() )"
   ]
  },
  {
   "cell_type": "markdown",
   "metadata": {},
   "source": [
    "## Add miRNA expression defined in Fehlmann2017 et al\n",
    "Downloaded supplementar file btx814_supp and used Supplemental_Data_2.gff3"
   ]
  },
  {
   "cell_type": "code",
   "execution_count": null,
   "metadata": {},
   "outputs": [],
   "source": []
  },
  {
   "cell_type": "code",
   "execution_count": 13,
   "metadata": {},
   "outputs": [
    {
     "name": "stdout",
     "output_type": "stream",
     "text": [
      "##gff-version 3\n",
      "#\n",
      "# Reference genome: GCF_000001405.36_GRCh38.p10\n",
      "# Stem loops are annotated as miRNA_primary_transcript.\n",
      "# They correspond to the predicted precursor +- 15 bases flanks\n",
      "chr1\t.\tmiRNA_primary_transcript\t925514\t925604\t.\t+\t.\tName=hsa-15534-17188.1\n",
      "chr1\t.\tmiRNA\t925529\t925551\t.\t+\t.\tName=m-15534;Organism=hsa\n",
      "chr1\t.\tmiRNA\t925569\t925589\t.\t+\t.\tName=m-17188;Organism=hsa\n",
      "chr1\t.\tmiRNA_primary_transcript\t1218437\t1218523\t.\t+\t.\tName=hsa-19867-15383.1\n",
      "chr1\t.\tmiRNA\t1218452\t1218473\t.\t+\t.\tName=m-19867;Organism=hsa\n"
     ]
    }
   ],
   "source": [
    "!head /Volumes/prj/dorina2/raw/Fehlmann2017etal.gff3"
   ]
  },
  {
   "cell_type": "code",
   "execution_count": 54,
   "metadata": {},
   "outputs": [],
   "source": [
    "bt = pybedtools.BedTool('/Volumes/prj/dorina2/raw/Fehlmann2017etal.gff3')\n",
    "\n",
    "bt_new = bt.each(change_name_fehlmannetal2017).saveas()\n",
    "\n",
    "'/Volumes/prj/dorina2/regulators/h_sapiens/hg38/targetScan_miRNA_hg38.bed'\n",
    "for entry in bt:\n",
    "    entry[2] = entry.name"
   ]
  },
  {
   "cell_type": "code",
   "execution_count": 55,
   "metadata": {},
   "outputs": [
    {
     "name": "stdout",
     "output_type": "stream",
     "text": [
      "chr1\t.\tmiRNA_primary_transcript\t925514\t925604\t.\t+\t.\tName=hsa-15534-17188.1\n",
      " chr1\t.\tmiRNA\t925529\t925551\t.\t+\t.\tName=m-15534;Organism=hsa\n",
      " chr1\t.\tmiRNA\t925569\t925589\t.\t+\t.\tName=m-17188;Organism=hsa\n",
      " chr1\t.\tmiRNA_primary_transcript\t1218437\t1218523\t.\t+\t.\tName=hsa-19867-15383.1\n",
      " chr1\t.\tmiRNA\t1218452\t1218473\t.\t+\t.\tName=m-19867;Organism=hsa\n",
      " chr1\t.\tmiRNA\t1218486\t1218508\t.\t+\t.\tName=m-15383;Organism=hsa\n",
      " chr1\t.\tmiRNA_primary_transcript\t1235894\t1235991\t.\t+\t.\tName=hsa-14706-23591.1\n",
      " chr1\t.\tmiRNA\t1235909\t1235930\t.\t+\t.\tName=m-14706;Organism=hsa\n",
      " chr1\t.\tmiRNA\t1235955\t1235976\t.\t+\t.\tName=m-23591;Organism=hsa\n",
      " chr1\t.\tmiRNA_primary_transcript\t1254213\t1254300\t.\t-\t.\tName=hsa-14369-19525.1\n",
      " "
     ]
    }
   ],
   "source": [
    "bt.head()"
   ]
  },
  {
   "cell_type": "markdown",
   "metadata": {},
   "source": [
    "## Add targetScan predictions on 17 April 2018\n",
    "Add targetScan prediction from http://www.targetscan.org/vert_72/vert_72_data_download/Predicted_Target_Locations.default_predictions.hg19.bed.zip \n",
    "\n",
    "Data was lift over to hg38 with Crossmap:\n",
    "`conda activate crossmap`\n",
    "`python2 /home/tbrittoborges/bin/miniconda3/envs/crossmap/bin/CrossMap.py bed /prj/dorina2/crossmap/hg19ToHg38.over.chain Predicted_Target_Locations.default_predictions.hg19.bed targetScan_hg38.bed`"
   ]
  },
  {
   "cell_type": "code",
   "execution_count": 3,
   "metadata": {},
   "outputs": [
    {
     "name": "stdout",
     "output_type": "stream",
     "text": [
      "chr1\t965219\t965226\tKLHL17:miR-299-3p\t86\t+\t965219\t965226\t255,0,0\t1\t7\t0\n",
      "chr1\t965225\t965232\tKLHL17:miR-124-3p.1\t88\t+\t965225\t965232\t30,144,255\t1\t7\t0\n",
      "chr1\t965225\t965233\tKLHL17:miR-124-3p.2/506-3p\t96\t+\t965225\t965233\t128,0,128\t1\t8\t0\n",
      "chr1\t965553\t965561\tKLHL17:miR-19-3p\t91\t+\t965553\t965561\t128,0,128\t1\t8\t0\n",
      "chr1\t965674\t965681\tKLHL17:miR-137\t84\t+\t965674\t965681\t255,0,0\t1\t7\t0\n",
      "chr1\t976040\t976047\tC1orf170:miR-1197\t52\t-\t976040\t976047\t255,0,0\t1\t7\t0\n",
      "chr1\t1055054\t1055061\tAGRN:miR-31-5p\t91\t+\t1055054\t1055061\t255,0,0\t1\t7\t0\n",
      "chr1\t1055449\t1055456\tAGRN:miR-144-3p\t59\t+\t1055449\t1055456\t255,0,0\t1\t7\t0\n",
      "chr1\t1055451\t1055458\tAGRN:miR-128-3p\t77\t+\t1055451\t1055458\t30,144,255\t1\t7\t0\n",
      "chr1\t1055451\t1055458\tAGRN:miR-27-3p\t84\t+\t1055451\t1055458\t255,0,0\t1\t7\t0\n"
     ]
    }
   ],
   "source": [
    "!head /Volumes/prj/dorina2/raw/targetScan_hg38.bed"
   ]
  },
  {
   "cell_type": "code",
   "execution_count": 4,
   "metadata": {},
   "outputs": [
    {
     "data": {
      "text/plain": [
       "<BedTool(/Volumes/prj/dorina2/regulators/h_sapiens/hg38/targetScan_miRNA_hg38.bed)>"
      ]
     },
     "execution_count": 4,
     "metadata": {},
     "output_type": "execute_result"
    }
   ],
   "source": [
    "bt = pybedtools.BedTool('/Volumes/prj/dorina2/raw/targetScan_hg38.bed')\n",
    "bt_new = bt.each(change_name_targetscan).saveas()\n",
    "bt_new.moveto(\n",
    "    '/Volumes/prj/dorina2/regulators/h_sapiens/hg38/targetScan_miRNA_hg38.bed')"
   ]
  },
  {
   "cell_type": "code",
   "execution_count": 5,
   "metadata": {},
   "outputs": [],
   "source": [
    "bt = pybedtools.BedTool('/Volumes/prj/dorina2/regulators/h_sapiens/hg38/targetScan_miRNA_hg38.bed')\n",
    "regulators = [entry.name for entry in bt]"
   ]
  },
  {
   "cell_type": "code",
   "execution_count": 6,
   "metadata": {},
   "outputs": [
    {
     "data": {
      "text/plain": [
       "122604"
      ]
     },
     "execution_count": 6,
     "metadata": {},
     "output_type": "execute_result"
    }
   ],
   "source": [
    "len(regulators)"
   ]
  },
  {
   "cell_type": "code",
   "execution_count": 7,
   "metadata": {},
   "outputs": [],
   "source": [
    "json_path = '/Volumes/prj/dorina2/regulators/h_sapiens/hg38/targetScan_miRNA_hg38.json'\n",
    "json_ = []\n",
    "\n",
    "for regulator in set(regulators):\n",
    "    n_sites = regulators.count(regulator)\n",
    "    json_.append(\n",
    "        {\n",
    "            \"description\": f'{n_sites} sites predicted as regulated by {regulator}' \n",
    "            'predictions were obtained from TargetScan 7.2 from March 2018. '  \n",
    "            'The original data, mapped to hg19 assembly, was lift over with Crossmap.',\n",
    "            \"experiment\": 'TargetScan',\n",
    "            \"id\": regulator,\n",
    "            \"references\": 'Agarwal, Vikram, et al. Predicting effective microRNA '\n",
    "            'target sites in mammalian mRNAs. elife 4 (2015).',\n",
    "            \"summary\": regulator\n",
    "                }\n",
    "            ) \n",
    "\n",
    "with open(json_path, 'w') as fout:\n",
    "   json.dump(json_, fout, indent=True)"
   ]
  },
  {
   "cell_type": "code",
   "execution_count": 11,
   "metadata": {},
   "outputs": [
    {
     "data": {
      "text/plain": [
       "<BedTool(/Volumes/prj/dorina2/regulators/m_musculus/mm10/targetScan_miRNA_mm10.bed)>"
      ]
     },
     "execution_count": 11,
     "metadata": {},
     "output_type": "execute_result"
    }
   ],
   "source": [
    "bt = pybedtools.BedTool('/Volumes/prj/dorina2/raw/Predicted_Targets.mm10.bed')\n",
    "bt_new = bt.each(change_name_targetscan).saveas()\n",
    "regulators = [entry.name for entry in bt_new]\n",
    "bt_new.moveto(\n",
    "    '/Volumes/prj/dorina2/regulators/m_musculus/mm10/targetScan_miRNA_mm10.bed')"
   ]
  },
  {
   "cell_type": "code",
   "execution_count": 12,
   "metadata": {},
   "outputs": [],
   "source": [
    "json_path = '/Volumes/prj/dorina2/regulators/m_musculus/mm10/targetScan_miRNA_mm10.json'\n",
    "json_ = []\n",
    "\n",
    "for regulator in set(regulators):\n",
    "    n_sites = regulators.count(regulator)\n",
    "    json_.append(\n",
    "        {\n",
    "            \"description\": f'{n_sites} sites predicted as regulated by {regulator}' \n",
    "            'predictions were obtained from TargetScan 7.1 from March 2018. '  \n",
    "            'The original data is mapped to mm10 assembly.',\n",
    "            \"experiment\": 'TargetScan',\n",
    "            \"id\": regulator,\n",
    "            \"references\": 'Agarwal, Vikram, et al. Predicting effective microRNA '\n",
    "            'target sites in mammalian mRNAs. elife 4 (2015).',\n",
    "            \"summary\": regulator\n",
    "                }\n",
    "            ) \n",
    "\n",
    "with open(json_path, 'w') as fout:\n",
    "   json.dump(json_, fout, indent=True)\n"
   ]
  },
  {
   "cell_type": "markdown",
   "metadata": {},
   "source": [
    "## Add eClip data on 16 April 2018\n",
    "Add eClip data from Van Nostrand, Eric L., et al. \"Robust transcriptome-wide discovery of RNA-binding protein binding sites with enhanced CLIP (eCLIP).\" Nature methods 13.6 (2016): 508."
   ]
  },
  {
   "cell_type": "code",
   "execution_count": 5,
   "metadata": {},
   "outputs": [],
   "source": [
    "for cell in ('K562', 'HepG2'):\n",
    "    path = Path(f'/Volumes/biodb/encode/encode_hg38_clip_peaks/{cell}/replicates/')\n",
    "    bed_files = path.glob('*.bed')\n",
    "    regulators = [x.stem[: x.stem.find('_')] for x in bed_files]\n",
    "    for regulator in regulators:\n",
    "        bt1 = pybedtools.BedTool(str(path / f'{regulator}_{cell}_rep01.bed'))\n",
    "        bt2 = pybedtools.BedTool(str(path / f'{regulator}_{cell}_rep02.bed'))\n",
    "        bt_inter = bt1.intersect(bt2, s=True).sort()\n",
    "        bt_merged = bt1.cat(bt2, postmerge=False).sort()\n",
    "        bt_inter = bt_inter.map(b=bt_merged, c='5', s=True, o='median').bed6()\n",
    "        new_name = f'{cell}-{regulator}|eClip'\n",
    "        bt_inter.each(change_name, new_name=new_name).saveas().moveto(\n",
    "            f'/Volumes/tbrittoborges/dorina_eclip/eClip_{cell}_{regulator}_vanNostrand2016_hg38.bed')    "
   ]
  },
  {
   "cell_type": "code",
   "execution_count": 6,
   "metadata": {},
   "outputs": [],
   "source": [
    "!cat /Volumes/tbrittoborges/dorina_eclip/* > /Volumes/prj/dorina2/regulators/h_sapiens/hg38/eClip_RBP_hg38.bed"
   ]
  },
  {
   "cell_type": "code",
   "execution_count": 7,
   "metadata": {},
   "outputs": [
    {
     "data": {
      "text/html": [
       "<div>\n",
       "<style>\n",
       "    .dataframe thead tr:only-child th {\n",
       "        text-align: right;\n",
       "    }\n",
       "\n",
       "    .dataframe thead th {\n",
       "        text-align: left;\n",
       "    }\n",
       "\n",
       "    .dataframe tbody tr th {\n",
       "        vertical-align: top;\n",
       "    }\n",
       "</style>\n",
       "<table border=\"1\" class=\"dataframe\">\n",
       "  <thead>\n",
       "    <tr style=\"text-align: right;\">\n",
       "      <th></th>\n",
       "      <th>description</th>\n",
       "      <th>experiment</th>\n",
       "      <th>id</th>\n",
       "      <th>methods</th>\n",
       "      <th>references</th>\n",
       "      <th>summary</th>\n",
       "    </tr>\n",
       "  </thead>\n",
       "  <tbody>\n",
       "    <tr>\n",
       "      <th>0</th>\n",
       "      <td>Liftover to hg38 assembly with crossmap.</td>\n",
       "      <td>TargetScan Cons. miRNA:targets</td>\n",
       "      <td>miR-504|4725-5p|TargetScan</td>\n",
       "      <td></td>\n",
       "      <td>Benjamin P, et al. Cell 2005;20:15-20.</td>\n",
       "      <td>miR-504|4725-5p|TargetScan</td>\n",
       "    </tr>\n",
       "    <tr>\n",
       "      <th>1</th>\n",
       "      <td>Liftover to hg38 assembly with crossmap.</td>\n",
       "      <td>TargetScan Cons. miRNA:targets</td>\n",
       "      <td>miR-124|124ab|506|TargetScan</td>\n",
       "      <td></td>\n",
       "      <td>Benjamin P, et al. Cell 2005;20:15-20.</td>\n",
       "      <td>miR-124|124ab|506|TargetScan</td>\n",
       "    </tr>\n",
       "    <tr>\n",
       "      <th>2</th>\n",
       "      <td>Liftover to hg38 assembly with crossmap.</td>\n",
       "      <td>TargetScan Cons. miRNA:targets</td>\n",
       "      <td>miR-19ab|TargetScan</td>\n",
       "      <td></td>\n",
       "      <td>Benjamin P, et al. Cell 2005;20:15-20.</td>\n",
       "      <td>miR-19ab|TargetScan</td>\n",
       "    </tr>\n",
       "    <tr>\n",
       "      <th>3</th>\n",
       "      <td>Liftover to hg38 assembly with crossmap.</td>\n",
       "      <td>TargetScan Cons. miRNA:targets</td>\n",
       "      <td>miR-137|137ab|TargetScan</td>\n",
       "      <td></td>\n",
       "      <td>Benjamin P, et al. Cell 2005;20:15-20.</td>\n",
       "      <td>miR-137|137ab|TargetScan</td>\n",
       "    </tr>\n",
       "    <tr>\n",
       "      <th>4</th>\n",
       "      <td>Liftover to hg38 assembly with crossmap.</td>\n",
       "      <td>TargetScan Cons. miRNA:targets</td>\n",
       "      <td>miR-31|TargetScan</td>\n",
       "      <td></td>\n",
       "      <td>Benjamin P, et al. Cell 2005;20:15-20.</td>\n",
       "      <td>miR-31|TargetScan</td>\n",
       "    </tr>\n",
       "  </tbody>\n",
       "</table>\n",
       "</div>"
      ],
      "text/plain": [
       "                                 description                      experiment  \\\n",
       "0   Liftover to hg38 assembly with crossmap.  TargetScan Cons. miRNA:targets   \n",
       "1   Liftover to hg38 assembly with crossmap.  TargetScan Cons. miRNA:targets   \n",
       "2   Liftover to hg38 assembly with crossmap.  TargetScan Cons. miRNA:targets   \n",
       "3   Liftover to hg38 assembly with crossmap.  TargetScan Cons. miRNA:targets   \n",
       "4   Liftover to hg38 assembly with crossmap.  TargetScan Cons. miRNA:targets   \n",
       "\n",
       "                             id methods  \\\n",
       "0    miR-504|4725-5p|TargetScan           \n",
       "1  miR-124|124ab|506|TargetScan           \n",
       "2           miR-19ab|TargetScan           \n",
       "3      miR-137|137ab|TargetScan           \n",
       "4             miR-31|TargetScan           \n",
       "\n",
       "                               references                       summary  \n",
       "0  Benjamin P, et al. Cell 2005;20:15-20.    miR-504|4725-5p|TargetScan  \n",
       "1  Benjamin P, et al. Cell 2005;20:15-20.  miR-124|124ab|506|TargetScan  \n",
       "2  Benjamin P, et al. Cell 2005;20:15-20.           miR-19ab|TargetScan  \n",
       "3  Benjamin P, et al. Cell 2005;20:15-20.      miR-137|137ab|TargetScan  \n",
       "4  Benjamin P, et al. Cell 2005;20:15-20.             miR-31|TargetScan  "
      ]
     },
     "execution_count": 7,
     "metadata": {},
     "output_type": "execute_result"
    }
   ],
   "source": [
    "pd.read_json('/Volumes/prj/dorina2/regulators/h_sapiens/hg38/TargetScanCons_mirna_hg19.json').head()"
   ]
  },
  {
   "cell_type": "code",
   "execution_count": 8,
   "metadata": {},
   "outputs": [],
   "source": [
    "eclip_json = []\n",
    "for cell in ('K562', 'HepG2'):\n",
    "    path = Path(f'/Volumes/biodb/encode/encode_hg38_clip_peaks/{cell}/replicates/')\n",
    "    bed_files = path.glob('*.bed')\n",
    "    regulators = [x.stem[: x.stem.find('_')] for x in bed_files]\n",
    "    for regulator in regulators:\n",
    "        n_sites = len(pybedtools.BedTool(\n",
    "            f'/Volumes/tbrittoborges/dorina_eclip/eClip_{cell}_{regulator}_vanNostrand2016_hg38.bed'))\n",
    "        eclip_json.append(\n",
    "            {\n",
    "            \"description\": f'sites regulated by {n_sites} obtained from {cell} cells. The ' \n",
    "            'duplicated were merged with intersect and the median score is presented.'  \n",
    "            'The original data was mapped to hg38 assembly',\n",
    "            \"experiment\": 'eClip',\n",
    "            \"id\": f'{cell}-{regulator}|eClip',\n",
    "            \"references\": 'Van Nostrand, Eric L., et al. Robust transcriptome-wide discovery ' \n",
    "            'of RNA-binding protein binding sites with enhanced CLIP (eCLIP). Nature methods ' \n",
    "            '13.6 (2016): 508.',\n",
    "            \"summary\": f'{cell}-{regulator}|eClip'                \n",
    "                }\n",
    "            )        "
   ]
  },
  {
   "cell_type": "code",
   "execution_count": 9,
   "metadata": {},
   "outputs": [],
   "source": [
    "with open('/Volumes/prj/dorina2/regulators/h_sapiens/hg38/eClip_RBP_hg38.json', 'w') as fout:\n",
    "   json.dump(eclip_json, fout, indent=True)"
   ]
  },
  {
   "cell_type": "code",
   "execution_count": 10,
   "metadata": {},
   "outputs": [
    {
     "data": {
      "text/html": [
       "<div>\n",
       "<style>\n",
       "    .dataframe thead tr:only-child th {\n",
       "        text-align: right;\n",
       "    }\n",
       "\n",
       "    .dataframe thead th {\n",
       "        text-align: left;\n",
       "    }\n",
       "\n",
       "    .dataframe tbody tr th {\n",
       "        vertical-align: top;\n",
       "    }\n",
       "</style>\n",
       "<table border=\"1\" class=\"dataframe\">\n",
       "  <thead>\n",
       "    <tr style=\"text-align: right;\">\n",
       "      <th></th>\n",
       "      <th>description</th>\n",
       "      <th>experiment</th>\n",
       "      <th>id</th>\n",
       "      <th>references</th>\n",
       "      <th>summary</th>\n",
       "    </tr>\n",
       "  </thead>\n",
       "  <tbody>\n",
       "    <tr>\n",
       "      <th>0</th>\n",
       "      <td>sites regulated by 101732 obtained from K562 c...</td>\n",
       "      <td>eClip</td>\n",
       "      <td>K562-U2AF2|eClip</td>\n",
       "      <td>Van Nostrand, Eric L., et al. Robust transcrip...</td>\n",
       "      <td>K562-U2AF2|eClip</td>\n",
       "    </tr>\n",
       "    <tr>\n",
       "      <th>1</th>\n",
       "      <td>sites regulated by 42087 obtained from K562 ce...</td>\n",
       "      <td>eClip</td>\n",
       "      <td>K562-UPF1|eClip</td>\n",
       "      <td>Van Nostrand, Eric L., et al. Robust transcrip...</td>\n",
       "      <td>K562-UPF1|eClip</td>\n",
       "    </tr>\n",
       "    <tr>\n",
       "      <th>2</th>\n",
       "      <td>sites regulated by 31614 obtained from K562 ce...</td>\n",
       "      <td>eClip</td>\n",
       "      <td>K562-SMNDC1|eClip</td>\n",
       "      <td>Van Nostrand, Eric L., et al. Robust transcrip...</td>\n",
       "      <td>K562-SMNDC1|eClip</td>\n",
       "    </tr>\n",
       "    <tr>\n",
       "      <th>3</th>\n",
       "      <td>sites regulated by 27191 obtained from K562 ce...</td>\n",
       "      <td>eClip</td>\n",
       "      <td>K562-CPSF6|eClip</td>\n",
       "      <td>Van Nostrand, Eric L., et al. Robust transcrip...</td>\n",
       "      <td>K562-CPSF6|eClip</td>\n",
       "    </tr>\n",
       "    <tr>\n",
       "      <th>4</th>\n",
       "      <td>sites regulated by 81632 obtained from K562 ce...</td>\n",
       "      <td>eClip</td>\n",
       "      <td>K562-PRPF8|eClip</td>\n",
       "      <td>Van Nostrand, Eric L., et al. Robust transcrip...</td>\n",
       "      <td>K562-PRPF8|eClip</td>\n",
       "    </tr>\n",
       "  </tbody>\n",
       "</table>\n",
       "</div>"
      ],
      "text/plain": [
       "                                         description experiment  \\\n",
       "0  sites regulated by 101732 obtained from K562 c...      eClip   \n",
       "1  sites regulated by 42087 obtained from K562 ce...      eClip   \n",
       "2  sites regulated by 31614 obtained from K562 ce...      eClip   \n",
       "3  sites regulated by 27191 obtained from K562 ce...      eClip   \n",
       "4  sites regulated by 81632 obtained from K562 ce...      eClip   \n",
       "\n",
       "                  id                                         references  \\\n",
       "0   K562-U2AF2|eClip  Van Nostrand, Eric L., et al. Robust transcrip...   \n",
       "1    K562-UPF1|eClip  Van Nostrand, Eric L., et al. Robust transcrip...   \n",
       "2  K562-SMNDC1|eClip  Van Nostrand, Eric L., et al. Robust transcrip...   \n",
       "3   K562-CPSF6|eClip  Van Nostrand, Eric L., et al. Robust transcrip...   \n",
       "4   K562-PRPF8|eClip  Van Nostrand, Eric L., et al. Robust transcrip...   \n",
       "\n",
       "             summary  \n",
       "0   K562-U2AF2|eClip  \n",
       "1    K562-UPF1|eClip  \n",
       "2  K562-SMNDC1|eClip  \n",
       "3   K562-CPSF6|eClip  \n",
       "4   K562-PRPF8|eClip  "
      ]
     },
     "execution_count": 10,
     "metadata": {},
     "output_type": "execute_result"
    }
   ],
   "source": [
    "pd.read_json('/Volumes/prj/dorina2/regulators/h_sapiens/hg38/eClip_RBP_hg38.json').head()"
   ]
  },
  {
   "cell_type": "markdown",
   "metadata": {},
   "source": [
    "## Fix for mm10 regulators on 13 April 2018\n",
    "\n",
    "dorina and webdorina were not working with mm10 regulatos due to mismatch of the regulators record name and .bed file name.  \n",
    "This section fixes this issue"
   ]
  },
  {
   "cell_type": "code",
   "execution_count": 3,
   "metadata": {},
   "outputs": [],
   "source": [
    "bed_files = Path('/Volumes/prj/dorina2/regulators/m_musculus/mm10/').glob('*.bed')"
   ]
  },
  {
   "cell_type": "code",
   "execution_count": 5,
   "metadata": {},
   "outputs": [],
   "source": [
    "for bed_file in bed_files:\n",
    "    bt = pybedtools.BedTool(str(bed_file))\n",
    "    new_name = bed_file.stem + '*'\n",
    "    bt.each(change_name, new_name=new_name).saveas().moveto(str(bed_file))"
   ]
  },
  {
   "cell_type": "markdown",
   "metadata": {},
   "source": [
    " there are still problems with the pictar files"
   ]
  },
  {
   "cell_type": "code",
   "execution_count": null,
   "metadata": {},
   "outputs": [],
   "source": []
  }
 ],
 "metadata": {
  "kernelspec": {
   "display_name": "Python 3",
   "language": "python",
   "name": "python3"
  },
  "language_info": {
   "codemirror_mode": {
    "name": "ipython",
    "version": 3
   },
   "file_extension": ".py",
   "mimetype": "text/x-python",
   "name": "python",
   "nbconvert_exporter": "python",
   "pygments_lexer": "ipython3",
   "version": "3.6.3"
  }
 },
 "nbformat": 4,
 "nbformat_minor": 2
}
