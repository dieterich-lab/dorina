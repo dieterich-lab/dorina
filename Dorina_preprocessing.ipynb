{
 "cells": [
  {
   "cell_type": "code",
   "execution_count": 1,
   "metadata": {},
   "outputs": [],
   "source": [
    "from pathlib import Path\n",
    "import pybedtools"
   ]
  },
  {
   "cell_type": "markdown",
   "metadata": {},
   "source": [
    "This notebook documents the process for extending Dorina regulators database.\n",
    "Dorina depends on the correct naming of both the bedfile and and bed record (the rows in the bed file). Dorina filter most bed files by the name, and if the name of the file and the bed record do not match, there will be problems. Please see dorina.regulator.py line 80 for implementation details. \n",
    "\n",
    "Also, webdorina depends on a specific parsing to process the regulator site. This specification is:  \n",
    "'{experiment}#{reg_name}_{assembly}*{reg_name}'  \n",
    "PARCLIP#TAF15_hg19*TAF15"
   ]
  },
  {
   "cell_type": "markdown",
   "metadata": {},
   "source": [
    "To keep the database consistent with the old data \n",
    "- peaks in experimental replicates are merged\n",
    "- the score of the resulting peak is the median peak score\n",
    "\n",
    "This may not be optimal for every experiment, but the database contains various types of experiments."
   ]
  },
  {
   "cell_type": "code",
   "execution_count": 2,
   "metadata": {},
   "outputs": [],
   "source": [
    "def change_name(rec, new_name=\"\"):\n",
    "    rec.name = new_name\n",
    "    return rec"
   ]
  },
  {
   "cell_type": "markdown",
   "metadata": {},
   "source": [
    "## Fix for mm10 regulators on 13 April 2018\n",
    "\n",
    "dorina and webdorina were not working with mm10 regulatos due to mismatch of the regulators record name and .bed file name.  \n",
    "This section fixes this issue"
   ]
  },
  {
   "cell_type": "code",
   "execution_count": 3,
   "metadata": {},
   "outputs": [],
   "source": [
    "bed_files = Path('/Volumes/prj/dorina2/regulators/m_musculus/mm10/').glob('*.bed')"
   ]
  },
  {
   "cell_type": "code",
   "execution_count": 5,
   "metadata": {},
   "outputs": [],
   "source": [
    "for bed_file in bed_files:\n",
    "    bt = pybedtools.BedTool(str(bed_file))\n",
    "    new_name = bed_file.stem + '*'\n",
    "    bt.each(change_name, new_name=new_name).saveas().moveto(str(bed_file))"
   ]
  },
  {
   "cell_type": "markdown",
   "metadata": {},
   "source": [
    " there are still problems with the pictar files"
   ]
  },
  {
   "cell_type": "code",
   "execution_count": null,
   "metadata": {},
   "outputs": [],
   "source": []
  }
 ],
 "metadata": {
  "kernelspec": {
   "display_name": "Python 3",
   "language": "python",
   "name": "python3"
  },
  "language_info": {
   "codemirror_mode": {
    "name": "ipython",
    "version": 3
   },
   "file_extension": ".py",
   "mimetype": "text/x-python",
   "name": "python",
   "nbconvert_exporter": "python",
   "pygments_lexer": "ipython3",
   "version": "3.6.3"
  }
 },
 "nbformat": 4,
 "nbformat_minor": 2
}
