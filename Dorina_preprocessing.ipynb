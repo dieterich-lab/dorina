{
 "cells": [
  {
   "cell_type": "code",
   "execution_count": 1,
   "metadata": {},
   "outputs": [],
   "source": [
    "from pathlib import Path\n",
    "import pybedtools\n",
    "import pandas as pd\n",
    "import json"
   ]
  },
  {
   "cell_type": "markdown",
   "metadata": {},
   "source": [
    "This notebook documents the process for extending Dorina regulators database.\n",
    "Dorina depends on the correct naming of both the bedfile and and bed record (the rows in the bed file). Dorina filter most bed files by the name, and if the name of the file and the bed record do not match, there will be problems. Please see dorina.regulator.py line 80 for implementation details. \n",
    "\n",
    "Also, webdorina depends on a specific parsing to process the regulator site. This specification is:  \n",
    "'{experiment}#{reg_name}_{assembly}\\*{reg_name}'  \n",
    "PARCLIP#TAF15_hg19*TAF15"
   ]
  },
  {
   "cell_type": "markdown",
   "metadata": {},
   "source": [
    "To keep the database consistent with the old data \n",
    "- peaks in experimental replicates are merged\n",
    "- the score of the resulting peak is the median peak score\n",
    "\n",
    "This may not be optimal for every experiment, but the database contains various types of experiments."
   ]
  },
  {
   "cell_type": "code",
   "execution_count": 2,
   "metadata": {},
   "outputs": [],
   "source": [
    "def change_name(rec, new_name=\"\"):\n",
    "    rec.name = new_name\n",
    "    return rec"
   ]
  },
  {
   "cell_type": "markdown",
   "metadata": {},
   "source": [
    "## Add targetScan predictions on 17 April 2018\n",
    "Add targetScan prediction from http://www.targetscan.org/vert_72/vert_72_data_download/Predicted_Target_Locations.default_predictions.hg19.bed.zip \n",
    "\n",
    "Data was lift over to hg38 with Crossmap:\n",
    "`conda activate crossmap`\n",
    "`python2 /home/tbrittoborges/bin/miniconda3/envs/crossmap/bin/CrossMap.py bed /prj/dorina2/crossmap/hg19ToHg38.over.chain Predicted_Target_Locations.default_predictions.hg19.bed targetScan_hg38.bed`"
   ]
  },
  {
   "cell_type": "code",
   "execution_count": null,
   "metadata": {},
   "outputs": [],
   "source": []
  },
  {
   "cell_type": "markdown",
   "metadata": {},
   "source": [
    "## Add eClip data on 16 April 2018\n",
    "Add eClip data from Van Nostrand, Eric L., et al. \"Robust transcriptome-wide discovery of RNA-binding protein binding sites with enhanced CLIP (eCLIP).\" Nature methods 13.6 (2016): 508."
   ]
  },
  {
   "cell_type": "code",
   "execution_count": 5,
   "metadata": {},
   "outputs": [],
   "source": [
    "for cell in ('K562', 'HepG2'):\n",
    "    path = Path(f'/Volumes/biodb/encode/encode_hg38_clip_peaks/{cell}/replicates/')\n",
    "    bed_files = path.glob('*.bed')\n",
    "    regulators = [x.stem[: x.stem.find('_')] for x in bed_files]\n",
    "    for regulator in regulators:\n",
    "        bt1 = pybedtools.BedTool(str(path / f'{regulator}_{cell}_rep01.bed'))\n",
    "        bt2 = pybedtools.BedTool(str(path / f'{regulator}_{cell}_rep02.bed'))\n",
    "        bt_inter = bt1.intersect(bt2, s=True).sort()\n",
    "        bt_merged = bt1.cat(bt2, postmerge=False).sort()\n",
    "        bt_inter = bt_inter.map(b=bt_merged, c='5', s=True, o='median').bed6()\n",
    "        new_name = f'{cell}-{regulator}|eClip'\n",
    "        bt_inter.each(change_name, new_name=new_name).saveas().moveto(\n",
    "            f'/Volumes/tbrittoborges/dorina_eclip/eClip_{cell}_{regulator}_vanNostrand2016_hg38.bed')    "
   ]
  },
  {
   "cell_type": "code",
   "execution_count": 6,
   "metadata": {},
   "outputs": [],
   "source": [
    "!cat /Volumes/tbrittoborges/dorina_eclip/* > /Volumes/prj/dorina2/regulators/h_sapiens/hg38/eClip_RBP_hg38.bed"
   ]
  },
  {
   "cell_type": "code",
   "execution_count": 7,
   "metadata": {},
   "outputs": [
    {
     "data": {
      "text/html": [
       "<div>\n",
       "<style>\n",
       "    .dataframe thead tr:only-child th {\n",
       "        text-align: right;\n",
       "    }\n",
       "\n",
       "    .dataframe thead th {\n",
       "        text-align: left;\n",
       "    }\n",
       "\n",
       "    .dataframe tbody tr th {\n",
       "        vertical-align: top;\n",
       "    }\n",
       "</style>\n",
       "<table border=\"1\" class=\"dataframe\">\n",
       "  <thead>\n",
       "    <tr style=\"text-align: right;\">\n",
       "      <th></th>\n",
       "      <th>description</th>\n",
       "      <th>experiment</th>\n",
       "      <th>id</th>\n",
       "      <th>methods</th>\n",
       "      <th>references</th>\n",
       "      <th>summary</th>\n",
       "    </tr>\n",
       "  </thead>\n",
       "  <tbody>\n",
       "    <tr>\n",
       "      <th>0</th>\n",
       "      <td>Liftover to hg38 assembly with crossmap.</td>\n",
       "      <td>TargetScan Cons. miRNA:targets</td>\n",
       "      <td>miR-504|4725-5p|TargetScan</td>\n",
       "      <td></td>\n",
       "      <td>Benjamin P, et al. Cell 2005;20:15-20.</td>\n",
       "      <td>miR-504|4725-5p|TargetScan</td>\n",
       "    </tr>\n",
       "    <tr>\n",
       "      <th>1</th>\n",
       "      <td>Liftover to hg38 assembly with crossmap.</td>\n",
       "      <td>TargetScan Cons. miRNA:targets</td>\n",
       "      <td>miR-124|124ab|506|TargetScan</td>\n",
       "      <td></td>\n",
       "      <td>Benjamin P, et al. Cell 2005;20:15-20.</td>\n",
       "      <td>miR-124|124ab|506|TargetScan</td>\n",
       "    </tr>\n",
       "    <tr>\n",
       "      <th>2</th>\n",
       "      <td>Liftover to hg38 assembly with crossmap.</td>\n",
       "      <td>TargetScan Cons. miRNA:targets</td>\n",
       "      <td>miR-19ab|TargetScan</td>\n",
       "      <td></td>\n",
       "      <td>Benjamin P, et al. Cell 2005;20:15-20.</td>\n",
       "      <td>miR-19ab|TargetScan</td>\n",
       "    </tr>\n",
       "    <tr>\n",
       "      <th>3</th>\n",
       "      <td>Liftover to hg38 assembly with crossmap.</td>\n",
       "      <td>TargetScan Cons. miRNA:targets</td>\n",
       "      <td>miR-137|137ab|TargetScan</td>\n",
       "      <td></td>\n",
       "      <td>Benjamin P, et al. Cell 2005;20:15-20.</td>\n",
       "      <td>miR-137|137ab|TargetScan</td>\n",
       "    </tr>\n",
       "    <tr>\n",
       "      <th>4</th>\n",
       "      <td>Liftover to hg38 assembly with crossmap.</td>\n",
       "      <td>TargetScan Cons. miRNA:targets</td>\n",
       "      <td>miR-31|TargetScan</td>\n",
       "      <td></td>\n",
       "      <td>Benjamin P, et al. Cell 2005;20:15-20.</td>\n",
       "      <td>miR-31|TargetScan</td>\n",
       "    </tr>\n",
       "  </tbody>\n",
       "</table>\n",
       "</div>"
      ],
      "text/plain": [
       "                                 description                      experiment  \\\n",
       "0   Liftover to hg38 assembly with crossmap.  TargetScan Cons. miRNA:targets   \n",
       "1   Liftover to hg38 assembly with crossmap.  TargetScan Cons. miRNA:targets   \n",
       "2   Liftover to hg38 assembly with crossmap.  TargetScan Cons. miRNA:targets   \n",
       "3   Liftover to hg38 assembly with crossmap.  TargetScan Cons. miRNA:targets   \n",
       "4   Liftover to hg38 assembly with crossmap.  TargetScan Cons. miRNA:targets   \n",
       "\n",
       "                             id methods  \\\n",
       "0    miR-504|4725-5p|TargetScan           \n",
       "1  miR-124|124ab|506|TargetScan           \n",
       "2           miR-19ab|TargetScan           \n",
       "3      miR-137|137ab|TargetScan           \n",
       "4             miR-31|TargetScan           \n",
       "\n",
       "                               references                       summary  \n",
       "0  Benjamin P, et al. Cell 2005;20:15-20.    miR-504|4725-5p|TargetScan  \n",
       "1  Benjamin P, et al. Cell 2005;20:15-20.  miR-124|124ab|506|TargetScan  \n",
       "2  Benjamin P, et al. Cell 2005;20:15-20.           miR-19ab|TargetScan  \n",
       "3  Benjamin P, et al. Cell 2005;20:15-20.      miR-137|137ab|TargetScan  \n",
       "4  Benjamin P, et al. Cell 2005;20:15-20.             miR-31|TargetScan  "
      ]
     },
     "execution_count": 7,
     "metadata": {},
     "output_type": "execute_result"
    }
   ],
   "source": [
    "pd.read_json('/Volumes/prj/dorina2/regulators/h_sapiens/hg38/TargetScanCons_mirna_hg19.json').head()"
   ]
  },
  {
   "cell_type": "code",
   "execution_count": 8,
   "metadata": {},
   "outputs": [],
   "source": [
    "eclip_json = []\n",
    "for cell in ('K562', 'HepG2'):\n",
    "    path = Path(f'/Volumes/biodb/encode/encode_hg38_clip_peaks/{cell}/replicates/')\n",
    "    bed_files = path.glob('*.bed')\n",
    "    regulators = [x.stem[: x.stem.find('_')] for x in bed_files]\n",
    "    for regulator in regulators:\n",
    "        n_sites = len(pybedtools.BedTool(\n",
    "            f'/Volumes/tbrittoborges/dorina_eclip/eClip_{cell}_{regulator}_vanNostrand2016_hg38.bed'))\n",
    "        eclip_json.append(\n",
    "            {\n",
    "            \"description\": f'sites regulated by {n_sites} obtained from {cell} cells. The ' \n",
    "            'duplicated were merged with intersect and the median score is presented.'  \n",
    "            'The original data was mapped to hg38 assembly',\n",
    "            \"experiment\": 'eClip',\n",
    "            \"id\": f'{cell}-{regulator}|eClip',\n",
    "            \"references\": 'Van Nostrand, Eric L., et al. Robust transcriptome-wide discovery ' \n",
    "            'of RNA-binding protein binding sites with enhanced CLIP (eCLIP). Nature methods ' \n",
    "            '13.6 (2016): 508.',\n",
    "            \"summary\": f'{cell}-{regulator}|eClip'                \n",
    "                }\n",
    "            )        "
   ]
  },
  {
   "cell_type": "code",
   "execution_count": 9,
   "metadata": {},
   "outputs": [],
   "source": [
    "with open('/Volumes/prj/dorina2/regulators/h_sapiens/hg38/eClip_RBP_hg38.json', 'w') as fout:\n",
    "   json.dump(eclip_json, fout, indent=True)"
   ]
  },
  {
   "cell_type": "code",
   "execution_count": 10,
   "metadata": {},
   "outputs": [
    {
     "data": {
      "text/html": [
       "<div>\n",
       "<style>\n",
       "    .dataframe thead tr:only-child th {\n",
       "        text-align: right;\n",
       "    }\n",
       "\n",
       "    .dataframe thead th {\n",
       "        text-align: left;\n",
       "    }\n",
       "\n",
       "    .dataframe tbody tr th {\n",
       "        vertical-align: top;\n",
       "    }\n",
       "</style>\n",
       "<table border=\"1\" class=\"dataframe\">\n",
       "  <thead>\n",
       "    <tr style=\"text-align: right;\">\n",
       "      <th></th>\n",
       "      <th>description</th>\n",
       "      <th>experiment</th>\n",
       "      <th>id</th>\n",
       "      <th>references</th>\n",
       "      <th>summary</th>\n",
       "    </tr>\n",
       "  </thead>\n",
       "  <tbody>\n",
       "    <tr>\n",
       "      <th>0</th>\n",
       "      <td>sites regulated by 101732 obtained from K562 c...</td>\n",
       "      <td>eClip</td>\n",
       "      <td>K562-U2AF2|eClip</td>\n",
       "      <td>Van Nostrand, Eric L., et al. Robust transcrip...</td>\n",
       "      <td>K562-U2AF2|eClip</td>\n",
       "    </tr>\n",
       "    <tr>\n",
       "      <th>1</th>\n",
       "      <td>sites regulated by 42087 obtained from K562 ce...</td>\n",
       "      <td>eClip</td>\n",
       "      <td>K562-UPF1|eClip</td>\n",
       "      <td>Van Nostrand, Eric L., et al. Robust transcrip...</td>\n",
       "      <td>K562-UPF1|eClip</td>\n",
       "    </tr>\n",
       "    <tr>\n",
       "      <th>2</th>\n",
       "      <td>sites regulated by 31614 obtained from K562 ce...</td>\n",
       "      <td>eClip</td>\n",
       "      <td>K562-SMNDC1|eClip</td>\n",
       "      <td>Van Nostrand, Eric L., et al. Robust transcrip...</td>\n",
       "      <td>K562-SMNDC1|eClip</td>\n",
       "    </tr>\n",
       "    <tr>\n",
       "      <th>3</th>\n",
       "      <td>sites regulated by 27191 obtained from K562 ce...</td>\n",
       "      <td>eClip</td>\n",
       "      <td>K562-CPSF6|eClip</td>\n",
       "      <td>Van Nostrand, Eric L., et al. Robust transcrip...</td>\n",
       "      <td>K562-CPSF6|eClip</td>\n",
       "    </tr>\n",
       "    <tr>\n",
       "      <th>4</th>\n",
       "      <td>sites regulated by 81632 obtained from K562 ce...</td>\n",
       "      <td>eClip</td>\n",
       "      <td>K562-PRPF8|eClip</td>\n",
       "      <td>Van Nostrand, Eric L., et al. Robust transcrip...</td>\n",
       "      <td>K562-PRPF8|eClip</td>\n",
       "    </tr>\n",
       "  </tbody>\n",
       "</table>\n",
       "</div>"
      ],
      "text/plain": [
       "                                         description experiment  \\\n",
       "0  sites regulated by 101732 obtained from K562 c...      eClip   \n",
       "1  sites regulated by 42087 obtained from K562 ce...      eClip   \n",
       "2  sites regulated by 31614 obtained from K562 ce...      eClip   \n",
       "3  sites regulated by 27191 obtained from K562 ce...      eClip   \n",
       "4  sites regulated by 81632 obtained from K562 ce...      eClip   \n",
       "\n",
       "                  id                                         references  \\\n",
       "0   K562-U2AF2|eClip  Van Nostrand, Eric L., et al. Robust transcrip...   \n",
       "1    K562-UPF1|eClip  Van Nostrand, Eric L., et al. Robust transcrip...   \n",
       "2  K562-SMNDC1|eClip  Van Nostrand, Eric L., et al. Robust transcrip...   \n",
       "3   K562-CPSF6|eClip  Van Nostrand, Eric L., et al. Robust transcrip...   \n",
       "4   K562-PRPF8|eClip  Van Nostrand, Eric L., et al. Robust transcrip...   \n",
       "\n",
       "             summary  \n",
       "0   K562-U2AF2|eClip  \n",
       "1    K562-UPF1|eClip  \n",
       "2  K562-SMNDC1|eClip  \n",
       "3   K562-CPSF6|eClip  \n",
       "4   K562-PRPF8|eClip  "
      ]
     },
     "execution_count": 10,
     "metadata": {},
     "output_type": "execute_result"
    }
   ],
   "source": [
    "pd.read_json('/Volumes/prj/dorina2/regulators/h_sapiens/hg38/eClip_RBP_hg38.json').head()"
   ]
  },
  {
   "cell_type": "markdown",
   "metadata": {},
   "source": [
    "## Fix for mm10 regulators on 13 April 2018\n",
    "\n",
    "dorina and webdorina were not working with mm10 regulatos due to mismatch of the regulators record name and .bed file name.  \n",
    "This section fixes this issue"
   ]
  },
  {
   "cell_type": "code",
   "execution_count": 3,
   "metadata": {},
   "outputs": [],
   "source": [
    "bed_files = Path('/Volumes/prj/dorina2/regulators/m_musculus/mm10/').glob('*.bed')"
   ]
  },
  {
   "cell_type": "code",
   "execution_count": 5,
   "metadata": {},
   "outputs": [],
   "source": [
    "for bed_file in bed_files:\n",
    "    bt = pybedtools.BedTool(str(bed_file))\n",
    "    new_name = bed_file.stem + '*'\n",
    "    bt.each(change_name, new_name=new_name).saveas().moveto(str(bed_file))"
   ]
  },
  {
   "cell_type": "markdown",
   "metadata": {},
   "source": [
    " there are still problems with the pictar files"
   ]
  },
  {
   "cell_type": "code",
   "execution_count": null,
   "metadata": {},
   "outputs": [],
   "source": []
  }
 ],
 "metadata": {
  "kernelspec": {
   "display_name": "Python 3",
   "language": "python",
   "name": "python3"
  },
  "language_info": {
   "codemirror_mode": {
    "name": "ipython",
    "version": 3
   },
   "file_extension": ".py",
   "mimetype": "text/x-python",
   "name": "python",
   "nbconvert_exporter": "python",
   "pygments_lexer": "ipython3",
   "version": "3.6.3"
  }
 },
 "nbformat": 4,
 "nbformat_minor": 2
}
